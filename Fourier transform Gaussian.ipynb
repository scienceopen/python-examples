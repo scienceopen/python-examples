{
 "cells": [
  {
   "cell_type": "code",
   "execution_count": null,
   "metadata": {},
   "outputs": [],
   "source": [
    "from numpy import linspace, sqrt, pi, exp, angle\n",
    "from numpy.fft import fft, ifft, fftshift\n",
    "from matplotlib.pyplot import subplots, show\n",
    "\n",
    "x = linspace(-15, 15, 200)\n",
    "w = linspace(-pi, pi, 200)\n",
    "sigma = 1\n",
    "\n",
    "g = 1 / (sigma * sqrt(2 * pi)) * exp(-((x - 0) ** 2) / (2 * sigma**2))\n",
    "G = fft(g)\n",
    "\n",
    "Gana = exp(-(w**2) * sigma**2 / 2)\n",
    "\n",
    "fg, ax = subplots(4, 1)\n",
    "ax[0].plot(x, g)\n",
    "ax[0].set_title(\"g(x)\")\n",
    "ax[0].set_xlabel(\"x\")\n",
    "\n",
    "ax[1].plot(w, abs(fftshift(G)), label=\"G($\\omega$)\")\n",
    "ax[2].plot(1 / 2 * pi * w, abs(Gana), label=\"$G_{analytic}$\")\n",
    "ax[2].set_xlim((-pi, pi))\n",
    "\n",
    "ax[3].plot(G.imag)\n",
    "\n",
    "show()"
   ]
  },
  {
   "cell_type": "code",
   "execution_count": null,
   "metadata": {},
   "outputs": [],
   "source": []
  }
 ],
 "metadata": {
  "kernelspec": {
   "display_name": "Python 3",
   "language": "python",
   "name": "python3"
  },
  "language_info": {
   "codemirror_mode": {
    "name": "ipython",
    "version": 3
   },
   "file_extension": ".py",
   "mimetype": "text/x-python",
   "name": "python",
   "nbconvert_exporter": "python",
   "pygments_lexer": "ipython3",
   "version": "3.5.2"
  }
 },
 "nbformat": 4,
 "nbformat_minor": 1
}
